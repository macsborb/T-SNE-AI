{
 "cells": [
  {
   "cell_type": "markdown",
   "id": "a8196b2f",
   "metadata": {},
   "source": [
    "# Analyse de données avec visualisation T-SNE et UMAP\n",
    "Ce notebook implémente une analyse de données sur le jeu de données `Covertype`. Il inclut des techniques de réduction de dimension (T-SNE et UMAP) et une classification par forêt aléatoire."
   ]
  },
  {
   "cell_type": "code",
   "execution_count": null,
   "id": "b9f1905c",
   "metadata": {},
   "outputs": [],
   "source": [
    "# Importations nécessaires\n",
    "import pandas as pd\n",
    "import numpy as np\n",
    "from sklearn.model_selection import train_test_split\n",
    "from sklearn.metrics import accuracy_score, f1_score\n",
    "from sklearn.ensemble import RandomForestClassifier\n",
    "from sklearn.manifold import TSNE\n",
    "import umap\n",
    "#import umap.parametric_umap\n",
    "from imblearn.under_sampling import RandomUnderSampler\n",
    "from ucimlrepo import fetch_ucirepo\n",
    "import matplotlib.pyplot as plt\n",
    "import seaborn as sns\n",
    "\n",
    "# Paramètres globaux pour les visualisations\n",
    "sns.set(style='whitegrid')\n",
    "plt.rcParams['figure.dpi'] = 100"
   ]
  },
  {
   "cell_type": "code",
   "execution_count": null,
   "id": "c98d3075",
   "metadata": {},
   "outputs": [],
   "source": [
    "# Chargement du dataset\n",
    "covertype = fetch_ucirepo(id=31)\n",
    "X = covertype.data.features\n",
    "y = covertype.data.targets"
   ]
  },
  {
   "cell_type": "code",
   "execution_count": null,
   "id": "d7ab5611",
   "metadata": {},
   "outputs": [],
   "source": [
    "# Échantillonnage pour réduire la taille et la complexité\n",
    "sampler = RandomUnderSampler(sampling_strategy='auto', random_state=42)\n",
    "X_resampled, y_resampled = sampler.fit_resample(X, y)"
   ]
  },
  {
   "cell_type": "code",
   "execution_count": null,
   "id": "36c3af2e",
   "metadata": {},
   "outputs": [],
   "source": [
    "# Split du dataset en train et test\n",
    "X_train, X_test, y_train, y_test = train_test_split(\n",
    "    X_resampled, y_resampled, test_size=0.3, random_state=42, stratify=y_resampled\n",
    ")"
   ]
  },
  {
   "cell_type": "code",
   "execution_count": null,
   "id": "e88dd2de",
   "metadata": {},
   "outputs": [],
   "source": [
    "# Fonction de visualisation avec T-SNE\n",
    "def visualize_tsne(X, y, title):\n",
    "    tsne = TSNE(n_components=2, random_state=42, perplexity=100, max_iter=1500, learning_rate=600)\n",
    "    X_tsne = tsne.fit_transform(X)\n",
    "    plt.figure(figsize=(10, 8))\n",
    "    sns.scatterplot(x=X_tsne[:, 0], y=X_tsne[:, 1], hue=np.ravel(y), palette='tab10', marker='o', s=30, alpha=0.7, edgecolor='k')\n",
    "    plt.title(f'T-SNE Visualization - {title}')\n",
    "    plt.legend(title='Classes', loc='upper right', bbox_to_anchor=(1.15, 1))\n",
    "    plt.xlabel('T-SNE Dimension 1')\n",
    "    plt.ylabel('T-SNE Dimension 2')\n",
    "    plt.tight_layout()\n",
    "    plt.show()"
   ]
  },
  {
   "cell_type": "code",
   "execution_count": null,
   "id": "70d0aeda",
   "metadata": {},
   "outputs": [],
   "source": [
    "# Visualisation des classes avec T-SNE\n",
    "print('T-SNE visualization on original dataset')\n",
    "visualize_tsne(X_train, y_train, 'Original Dataset')"
   ]
  },
  {
   "cell_type": "code",
   "execution_count": null,
   "id": "fceb6605",
   "metadata": {},
   "outputs": [],
   "source": [
    "# Fonction de visualisation avec UMAP\n",
    "def visualize_umap(X, y, title, parametric=False):\n",
    "    if parametric:\n",
    "        umap_model = umap.parametric_umap.ParametricUMAP(n_components=2, random_state=42, n_neighbors=50, min_dist=0.1)\n",
    "    else:\n",
    "        umap_model = umap.UMAP(n_components=2, random_state=42, n_neighbors=50, min_dist=0.5)\n",
    "    X_umap = umap_model.fit_transform(X)\n",
    "    plt.figure(figsize=(10, 8))\n",
    "    sns.scatterplot(x=X_umap[:, 0], y=X_umap[:, 1], hue=np.ravel(y), palette='tab10', marker='o')\n",
    "    plt.title(f'UMAP Visualization - {title}')\n",
    "    plt.show()"
   ]
  },
  {
   "cell_type": "code",
   "execution_count": null,
   "id": "4b6e528c",
   "metadata": {},
   "outputs": [],
   "source": [
    "# Visualisation avec UMAP\n",
    "print('UMAP visualization on original dataset')\n",
    "visualize_umap(X_train, y_train, 'Original Dataset', parametric=False)"
   ]
  },
  {
   "cell_type": "code",
   "execution_count": null,
   "id": "f5bce4c9",
   "metadata": {},
   "outputs": [],
   "source": [
    "# Classification avec RandomForest\n",
    "clf = RandomForestClassifier(random_state=42)\n",
    "clf.fit(X_train, y_train)\n",
    "y_pred = clf.predict(X_test)\n",
    "print('Accuracy:', accuracy_score(y_test, y_pred))\n",
    "print('F1 Score:', f1_score(y_test, y_pred, average='weighted'))"
   ]
  }
 ],
 "metadata": {},
 "nbformat": 4,
 "nbformat_minor": 5
}
